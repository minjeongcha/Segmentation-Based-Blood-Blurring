{
 "cells": [
  {
   "cell_type": "markdown",
   "id": "9be83eb8-a82c-447a-a872-895334f69149",
   "metadata": {},
   "source": [
    "## <B>Zone-based clustering</B>"
   ]
  },
  {
   "cell_type": "code",
   "execution_count": null,
   "id": "7e7fd99f-5170-49de-8e77-e94d078a1f62",
   "metadata": {},
   "outputs": [],
   "source": [
    "import pandas as pd\n",
    "from sklearn.cluster import DBSCAN\n",
    "\n",
    "# Data file path\n",
    "file_path = '영화5 레버넌트 박스 영역 좌표.txt'\n",
    "\n",
    "# Importing data\n",
    "data = pd.read_csv(file_path, sep=', ', header=None)\n",
    "\n",
    "# Set column names for a data frame\n",
    "data.columns = ['frame', 'x1', 'y1', 'x2', 'y2', 'confidence']\n",
    "\n",
    "# Generate clustered data by selecting only the columns you need\n",
    "coords = data[['x1', 'y1']].to_numpy()  # Select only x1, y1 coordinates\n",
    "\n",
    "# Create DBScan objects and perform clustering\n",
    "dbscan = DBSCAN(eps=0.005, min_samples=30)  # Adjust eps and min_samples values\n",
    "data['cluster'] = dbscan.fit_predict(coords)\n",
    "\n",
    "# Save clustering results to a text file\n",
    "output_file_path = '영화5 클러스터링.txt'  # Text file path\n",
    "data.to_csv(output_file_path, sep='\\t', index=False, header=True)  # Tab-delimited text files\n",
    "\n",
    "# Output the results\n",
    "print(data)"
   ]
  },
  {
   "cell_type": "markdown",
   "id": "206e6bd2-6be9-4555-9d49-c4064ce22dee",
   "metadata": {},
   "source": [
    "## <B>Clustering with a new number</B>"
   ]
  },
  {
   "cell_type": "code",
   "execution_count": null,
   "id": "b5440f1a-150c-4159-bdc4-b4abff9246a0",
   "metadata": {},
   "outputs": [],
   "source": [
    "import pandas as pd\n",
    "\n",
    "# Read existing data\n",
    "file_path = '영화5 클러스터링.txt'  # Original clustered file\n",
    "data = pd.read_csv(file_path, sep='\\t')  # Loading tab-delimited files\n",
    "\n",
    "# Assign a new cluster number\n",
    "new_clusters = []\n",
    "current_new_cluster = 0\n",
    "previous_cluster = None\n",
    "\n",
    "for cluster in data['cluster']:\n",
    "    if cluster != previous_cluster:  # When it's different from your previous cluster\n",
    "        current_new_cluster += 1  # Increase to a new number\n",
    "        previous_cluster = cluster  # Update old cluster values to current values\n",
    "    new_clusters.append(current_new_cluster)  # Save the new cluster number\n",
    "\n",
    "data['new_cluster'] = new_clusters  # Add a new cluster number\n",
    "\n",
    "# Save the results to a new file\n",
    "output_file_path = '영화5 새로운 클러스터링.txt'  # A file to save the updated results to\n",
    "data.to_csv(output_file_path, sep='\\t', index=False)  # Save the results in tabs\n",
    "\n",
    "# Output the results\n",
    "print(data)"
   ]
  },
  {
   "cell_type": "markdown",
   "id": "728393c7-bfd9-4f04-9599-e2fd4a757df3",
   "metadata": {},
   "source": [
    "## <B>Ignore 45 or fewer iterations (clustering filtering)</B>"
   ]
  },
  {
   "cell_type": "code",
   "execution_count": null,
   "id": "38094c1d-ae76-4648-9982-603a6d664a6b",
   "metadata": {},
   "outputs": [],
   "source": [
    "import pandas as pd\n",
    "\n",
    "# Loading files\n",
    "file_path = '영화5 새로운 클러스터링.txt'\n",
    "data = pd.read_csv(file_path, sep='\\t')\n",
    "\n",
    "# Counting cluster numbers and counts\n",
    "filtered_data = []\n",
    "previous_cluster = None\n",
    "count = 0\n",
    "\n",
    "# Count the frequency of each cluster\n",
    "for index, row in data.iterrows():\n",
    "    cluster = row['new_cluster']\n",
    "    \n",
    "    if cluster == previous_cluster:\n",
    "        count += 1\n",
    "    else:\n",
    "        # Handling old clusters\n",
    "        if previous_cluster is not None:\n",
    "            if count > 45:  # Ignore 45 or fewer iterations\n",
    "                filtered_data.extend([previous_cluster] * count)\n",
    "        \n",
    "        # Initialize the current cluster\n",
    "        count = 1  \n",
    "        previous_cluster = cluster\n",
    "\n",
    "# Process the last cluster\n",
    "if count > 3:\n",
    "    filtered_data.extend([previous_cluster] * count)\n",
    "\n",
    "# Create a new dataframe (remove clusters with 30 or fewer iterations)\n",
    "new_filtered_df = data[~data['new_cluster'].isin(set(data['new_cluster']) - set(filtered_data))]\n",
    "\n",
    "# Save the results\n",
    "output_file_path = '영화5 클러스터 필터링.csv'\n",
    "new_filtered_df.to_csv(output_file_path, sep='\\t', index=False)\n",
    "\n",
    "# Output filtered results\n",
    "print(new_filtered_df)"
   ]
  },
  {
   "cell_type": "markdown",
   "id": "f6031fb3-f7fe-4adf-a8ca-62d0ff957ba4",
   "metadata": {},
   "source": [
    "## <B>Time filtering</B>"
   ]
  },
  {
   "cell_type": "code",
   "execution_count": null,
   "id": "2ed80352-a3dd-4733-972d-1e7ffd25dae7",
   "metadata": {},
   "outputs": [],
   "source": [
    "import pandas as pd\n",
    "\n",
    "# Read a data file\n",
    "file_path = '영화5 클러스터 필터링.csv'\n",
    "data = pd.read_csv(file_path, delim_whitespace=True, header=None)\n",
    "\n",
    "# Check the data type of the first column of data\n",
    "print(data.dtypes)\n",
    "\n",
    "# Convert first column to float (convert string to number)\n",
    "data.iloc[:, 0] = pd.to_numeric(data.iloc[:, 0], errors='coerce')\n",
    "\n",
    "# Functions to convert frames to time\n",
    "def frame_to_time(frame):\n",
    "    return frame / 30\n",
    "\n",
    "# Assuming the first column is the frame number\n",
    "data['time'] = data.iloc[:, 0].apply(frame_to_time)\n",
    "\n",
    "# Save data as a new file\n",
    "output_file_path = '영화5 클러스터 시간필터링.csv'\n",
    "data.to_csv(output_file_path, sep='\\t', header=False, index=False)\n",
    "\n",
    "print(f\"The converted data was saved to the file {output_file_path} file.\")"
   ]
  },
  {
   "cell_type": "markdown",
   "id": "59984702-0041-4d34-a03a-78a63409a985",
   "metadata": {},
   "source": [
    "## <B>Calibrate Box Region Y Coordinate</B>"
   ]
  },
  {
   "cell_type": "code",
   "execution_count": null,
   "id": "51fe1b7d-6988-4943-bc7f-660c97163ae1",
   "metadata": {},
   "outputs": [],
   "source": [
    "import pandas as pd\n",
    "\n",
    "# Loading data (reading tab-delimited files)\n",
    "df = pd.read_csv('영화5 클러스터 시간필터링.csv', sep='\\t')\n",
    "\n",
    "# Check the first few rows and column names in the dataframe\n",
    "print(df.head())         # View the first five rows of a dataframe\n",
    "print(df.columns)        # Print all column names\n",
    "\n",
    "# Convert to value multiplied by 0.8 for columns y1, y2\n",
    "df['y1'] = df['y1'] * 0.9261501210653754\n",
    "df['y2'] = df['y2'] * 0.9261501210653754\n",
    "\n",
    "# Save the converted dataframe as a CSV file (optional)\n",
    "df.to_csv('영화5 보정.csv', index=False)"
   ]
  }
 ],
 "metadata": {
  "kernelspec": {
   "display_name": "Python [conda env:base] *",
   "language": "python",
   "name": "conda-base-py"
  },
  "language_info": {
   "codemirror_mode": {
    "name": "ipython",
    "version": 3
   },
   "file_extension": ".py",
   "mimetype": "text/x-python",
   "name": "python",
   "nbconvert_exporter": "python",
   "pygments_lexer": "ipython3",
   "version": "3.12.7"
  }
 },
 "nbformat": 4,
 "nbformat_minor": 5
}
