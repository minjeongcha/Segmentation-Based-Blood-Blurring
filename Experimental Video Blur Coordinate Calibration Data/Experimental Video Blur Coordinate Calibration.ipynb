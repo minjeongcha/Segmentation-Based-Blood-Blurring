{
 "cells": [
  {
   "cell_type": "markdown",
   "id": "9be83eb8-a82c-447a-a872-895334f69149",
   "metadata": {},
   "source": [
    "## <B>Zone-based clustering</B>"
   ]
  },
  {
   "cell_type": "code",
   "execution_count": null,
   "id": "7e7fd99f-5170-49de-8e77-e94d078a1f62",
   "metadata": {},
   "outputs": [],
   "source": [
    "import pandas as pd\n",
    "from sklearn.cluster import DBSCAN\n",
    "\n",
    "# 데이터 파일 경로\n",
    "file_path = '영화5 레버넌트 박스 영역 좌표.txt'\n",
    "\n",
    "# 데이터 불러오기\n",
    "data = pd.read_csv(file_path, sep=', ', header=None)\n",
    "\n",
    "# 데이터 프레임의 열 이름 설정\n",
    "data.columns = ['frame', 'x1', 'y1', 'x2', 'y2', 'confidence']\n",
    "\n",
    "# 필요한 열만 선택하여 클러스터링 데이터 생성\n",
    "coords = data[['x1', 'y1']].to_numpy()  # x1, y1 좌표만 선택\n",
    "\n",
    "# DBScan 객체 생성 및 클러스터링 수행\n",
    "dbscan = DBSCAN(eps=0.005, min_samples=30)  # eps와 min_samples 값 조정\n",
    "data['cluster'] = dbscan.fit_predict(coords)\n",
    "\n",
    "# 클러스터링 결과를 텍스트 파일로 저장\n",
    "output_file_path = '영화5 클러스터링.txt'  # 텍스트 파일 경로\n",
    "data.to_csv(output_file_path, sep='\\t', index=False, header=True)  # 탭으로 구분된 텍스트 파일\n",
    "\n",
    "# 결과 출력\n",
    "print(data)"
   ]
  },
  {
   "cell_type": "markdown",
   "id": "206e6bd2-6be9-4555-9d49-c4064ce22dee",
   "metadata": {},
   "source": [
    "## <B>Clustering with a new number</B>"
   ]
  },
  {
   "cell_type": "code",
   "execution_count": null,
   "id": "b5440f1a-150c-4159-bdc4-b4abff9246a0",
   "metadata": {},
   "outputs": [],
   "source": [
    "import pandas as pd\n",
    "\n",
    "# 기존 데이터 예시를 읽어오기\n",
    "file_path = '영화5 클러스터링.txt'  # 원본 클러스터링된 파일\n",
    "data = pd.read_csv(file_path, sep='\\t')  # 탭으로 구분된 파일 로드\n",
    "\n",
    "# 새로운 클러스터 번호 할당\n",
    "new_clusters = []\n",
    "current_new_cluster = 0\n",
    "previous_cluster = None\n",
    "\n",
    "for cluster in data['cluster']:\n",
    "    if cluster != previous_cluster:  # 이전 클러스터와 달라질 때\n",
    "        current_new_cluster += 1  # 새로운 번호로 증가\n",
    "        previous_cluster = cluster  # 이전 클러스터 값을 현재 값으로 업데이트\n",
    "    new_clusters.append(current_new_cluster)  # 새로운 클러스터 번호 저장\n",
    "\n",
    "data['new_cluster'] = new_clusters  # 새 클러스터 번호 추가\n",
    "\n",
    "# 결과를 새로운 파일로 저장\n",
    "output_file_path = '영화5 새로운 클러스터링.txt'  # 업데이트된 결과를 저장할 파일\n",
    "data.to_csv(output_file_path, sep='\\t', index=False)  # 결과를 탭으로 구분하여 저장\n",
    "\n",
    "# 결과 출력\n",
    "print(data)"
   ]
  },
  {
   "cell_type": "markdown",
   "id": "728393c7-bfd9-4f04-9599-e2fd4a757df3",
   "metadata": {},
   "source": [
    "## <B>Ignore 45 or fewer iterations (clustering filtering)</B>"
   ]
  },
  {
   "cell_type": "code",
   "execution_count": null,
   "id": "38094c1d-ae76-4648-9982-603a6d664a6b",
   "metadata": {},
   "outputs": [],
   "source": [
    "import pandas as pd\n",
    "\n",
    "# 파일 로드\n",
    "file_path = '영화5 새로운 클러스터링.txt'\n",
    "data = pd.read_csv(file_path, sep='\\t')\n",
    "\n",
    "# 클러스터 번호와 개수 세기\n",
    "filtered_data = []\n",
    "previous_cluster = None\n",
    "count = 0\n",
    "\n",
    "# 각 클러스터의 빈도 수 세기\n",
    "for index, row in data.iterrows():\n",
    "    cluster = row['new_cluster']\n",
    "    \n",
    "    if cluster == previous_cluster:\n",
    "        count += 1\n",
    "    else:\n",
    "        # 이전 클러스터 처리\n",
    "        if previous_cluster is not None:\n",
    "            if count > 45:  # 45개 이하 반복은 무시\n",
    "                filtered_data.extend([previous_cluster] * count)\n",
    "        \n",
    "        # 현재 클러스터 초기화\n",
    "        count = 1  \n",
    "        previous_cluster = cluster\n",
    "\n",
    "# 마지막 클러스터 처리\n",
    "if count > 3:\n",
    "    filtered_data.extend([previous_cluster] * count)\n",
    "\n",
    "# 새로운 데이터프레임 생성 (30개 이하 반복된 클러스터 제거)\n",
    "new_filtered_df = data[~data['new_cluster'].isin(set(data['new_cluster']) - set(filtered_data))]\n",
    "\n",
    "# 결과 저장\n",
    "output_file_path = '영화5 클러스터 필터링.csv'\n",
    "new_filtered_df.to_csv(output_file_path, sep='\\t', index=False)\n",
    "\n",
    "# 필터링된 결과 출력\n",
    "print(new_filtered_df)"
   ]
  },
  {
   "cell_type": "markdown",
   "id": "f6031fb3-f7fe-4adf-a8ca-62d0ff957ba4",
   "metadata": {},
   "source": [
    "## <B>Time filtering</B>"
   ]
  },
  {
   "cell_type": "code",
   "execution_count": null,
   "id": "2ed80352-a3dd-4733-972d-1e7ffd25dae7",
   "metadata": {},
   "outputs": [],
   "source": [
    "import pandas as pd\n",
    "\n",
    "# 데이터 파일 읽어오기\n",
    "file_path = '영화5 클러스터 필터링.csv'\n",
    "data = pd.read_csv(file_path, delim_whitespace=True, header=None)\n",
    "\n",
    "# 데이터의 첫 번째 열 데이터 타입 확인\n",
    "print(data.dtypes)\n",
    "\n",
    "# 첫 번째 열을 float로 변환 (문자열을 숫자로 변환)\n",
    "data.iloc[:, 0] = pd.to_numeric(data.iloc[:, 0], errors='coerce')\n",
    "\n",
    "# 프레임을 시간으로 변환하는 함수\n",
    "def frame_to_time(frame):\n",
    "    return frame / 30\n",
    "\n",
    "# 첫 번째 열이 프레임 번호라고 가정\n",
    "data['time'] = data.iloc[:, 0].apply(frame_to_time)\n",
    "\n",
    "# 데이터 새로운 파일로 저장\n",
    "output_file_path = '영화5 클러스터 시간필터링.csv'\n",
    "data.to_csv(output_file_path, sep='\\t', header=False, index=False)\n",
    "\n",
    "print(f\"변환된 데이터가 {output_file_path} 파일로 저장되었습니다.\")"
   ]
  },
  {
   "cell_type": "markdown",
   "id": "59984702-0041-4d34-a03a-78a63409a985",
   "metadata": {},
   "source": [
    "## <B>Calibrate Box Region Y Coordinate</B>"
   ]
  },
  {
   "cell_type": "code",
   "execution_count": null,
   "id": "51fe1b7d-6988-4943-bc7f-660c97163ae1",
   "metadata": {},
   "outputs": [],
   "source": [
    "import pandas as pd\n",
    "\n",
    "# 영화2 클러스터 시간필터링/영화3 클러스터 시간필터링 파일들은 일단 보정 안했음.\n",
    "# 데이터 로드 (탭으로 구분된 파일 읽기)\n",
    "df = pd.read_csv('영화5 클러스터 시간필터링.csv', sep='\\t')\n",
    "\n",
    "# 데이터프레임의 첫 몇 행과 열 이름 확인\n",
    "print(df.head())         # 데이터프레임의 첫 5개 행 보기\n",
    "print(df.columns)        # 모든 열 이름 출력하기\n",
    "\n",
    "# y1, y2 열에 대해 0.8 곱한 값으로 변환\n",
    "df['y1'] = df['y1'] * 0.9261501210653754\n",
    "df['y2'] = df['y2'] * 0.9261501210653754\n",
    "\n",
    "# 변환된 데이터프레임을 CSV 파일로 저장 (선택 사항)\n",
    "df.to_csv('영화5 보정.csv', index=False)"
   ]
  },
  {
   "cell_type": "code",
   "execution_count": null,
   "id": "cf3eb8c4-b96c-4752-9a4f-fb0a33dd7ff1",
   "metadata": {},
   "outputs": [],
   "source": []
  }
 ],
 "metadata": {
  "kernelspec": {
   "display_name": "Python [conda env:base] *",
   "language": "python",
   "name": "conda-base-py"
  },
  "language_info": {
   "codemirror_mode": {
    "name": "ipython",
    "version": 3
   },
   "file_extension": ".py",
   "mimetype": "text/x-python",
   "name": "python",
   "nbconvert_exporter": "python",
   "pygments_lexer": "ipython3",
   "version": "3.12.7"
  }
